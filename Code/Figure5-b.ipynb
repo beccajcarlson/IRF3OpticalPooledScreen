{
 "cells": [
  {
   "cell_type": "code",
   "execution_count": 3,
   "metadata": {},
   "outputs": [
    {
     "name": "stderr",
     "output_type": "stream",
     "text": [
      "/Users/rcarlson/miniconda3/lib/python3.6/site-packages/statsmodels/tools/_testing.py:19: FutureWarning: pandas.util.testing is deprecated. Use the functions in the public API at pandas.testing instead.\n",
      "  import pandas.util.testing as tm\n"
     ]
    }
   ],
   "source": [
    "pal = [(39/255,95/255,153/255),(80/255,176/255,220/255),\n",
    "       (237/255,244/255,248/255),\n",
    "       (146/255,144/255,142/255),\n",
    "       (78/255,78/255,80/255),\n",
    "(235/255,154/255,88/255),(87/255,126/255,130/255)]\n",
    "\n",
    "from dask import compute, delayed\n",
    "from dask.distributed import Client\n",
    "\n",
    "import sys\n",
    "import math\n",
    "sys.path.append(\"/Users/rcarlson/Documents/GitHub/lasagna3/snakes\")\n",
    "from ops.imports_ipython import *\n",
    "\n",
    "import javabridge\n",
    "import bioformats\n",
    "from scipy import ndimage\n",
    "import matplotlib.pyplot as plt\n",
    "import glob"
   ]
  },
  {
   "cell_type": "markdown",
   "metadata": {
    "heading_collapsed": true
   },
   "source": [
    "## save IMS to tif"
   ]
  },
  {
   "cell_type": "code",
   "execution_count": null,
   "metadata": {
    "hidden": true
   },
   "outputs": [],
   "source": [
    "javabridge.start_vm(class_path=bioformats.JARS)\n",
    "\n",
    "\n",
    "loc = '/Volumes/BeccaDrive/M152/*.ims'\n",
    "files = np.sort(glob.glob(loc))\n",
    "\n",
    "for f in files[-7:]:\n",
    "    well = f.split('final-')[1].split('-')[0]\n",
    "    site = f.split('.ims')[0].split('_F')[-1]\n",
    "    \n",
    "    \n",
    "    istart = 5\n",
    "    iend = 19\n",
    "\n",
    "    img = []\n",
    "    for i in range(istart,iend):\n",
    "        with bioformats.ImageReader(f) as reader:\n",
    "            img.append(reader.read(z=i))\n",
    "            reader.close()\n",
    "\n",
    "    ## use mito channel to find in-focus z\n",
    "\n",
    "    z = []\n",
    "    for i in range(len(img)):\n",
    "        z.append(ndimage.laplace(img[i][:,:,2]).var())\n",
    "    bestz = z.index(max(z))\n",
    "\n",
    "    print(well,' ',site)\n",
    "    print('max lap var: ', max(z))\n",
    "    print('best z found: ', bestz + istart)\n",
    "\n",
    "    # redefine image to best z only\n",
    "    with bioformats.ImageReader(f) as reader:\n",
    "            img = (reader.read(z=bestz + istart))\n",
    "            reader.close()\n",
    "            \n",
    "    # save image\n",
    "    img = np.moveaxis(img,-1,0)\n",
    "    save(str('/Volumes/Seagate Backup Plus Drive/M152/tifs/Well' + well + '_Site' + site + '.tif'), img)"
   ]
  },
  {
   "cell_type": "markdown",
   "metadata": {},
   "source": [
    "## Plot data"
   ]
  },
  {
   "cell_type": "code",
   "execution_count": 4,
   "metadata": {},
   "outputs": [
    {
     "name": "stdout",
     "output_type": "stream",
     "text": [
      "160\n",
      "[#######################                 ] | 57% Completed |  0.5sempty    WellB02_site-20.mavs.csv\n",
      "[########################################] | 100% Completed |  0.9s\n"
     ]
    }
   ],
   "source": [
    "from pandas.errors import EmptyDataError\n",
    "\n",
    "\n",
    "# load pheno dfs\n",
    "@delayed\n",
    "def read_csv_pheno(f):\n",
    "    try:\n",
    "        df = pd.read_csv(f)\n",
    "                      \n",
    "    except EmptyDataError:\n",
    "        df = pd.DataFrame()\n",
    "        print('empty   ', f.split('/')[-1])\n",
    "    return df\n",
    "\n",
    "loc = '/Users/rcarlson/Documents/GitHub/Zenodo_IRF3/Figure5/BJ1/tifs/process/*.mavs.csv'\n",
    "\n",
    "#loc = '/Volumes/BeccaDrive/M152/tifs/process/*.mavs.csv'\n",
    "files = np.sort(glob.glob(loc))\n",
    "print(len(files))\n",
    "\n",
    "from dask.diagnostics import ProgressBar\n",
    "with ProgressBar():\n",
    "    df = pd.concat(compute(*map(read_csv_pheno, files), scheduler='threads'))\n",
    "    \n"
   ]
  },
  {
   "cell_type": "code",
   "execution_count": 5,
   "metadata": {},
   "outputs": [],
   "source": [
    "df['gene'] = 'nontargeting'\n",
    "cond = df.well.isin(['B01','B02','C01','C02'])\n",
    "df.loc[cond, 'gene'] = 'ATP13A1'"
   ]
  },
  {
   "cell_type": "code",
   "execution_count": 7,
   "metadata": {},
   "outputs": [
    {
     "data": {
      "text/plain": [
       "Ttest_indResult(statistic=33.39935792633864, pvalue=1.7716040619197044e-205)"
      ]
     },
     "execution_count": 7,
     "metadata": {},
     "output_type": "execute_result"
    }
   ],
   "source": [
    "feature = 'channel_corrch1_cell_corr'\n",
    "scipy.stats.ttest_ind(df[df.gene == \"nontargeting\"][feature], df[df.gene == \"ATP13A1\"][feature])"
   ]
  },
  {
   "cell_type": "code",
   "execution_count": null,
   "metadata": {},
   "outputs": [],
   "source": [
    "sns.set(font_scale = 1.2, style = 'white')\n",
    "\n",
    "sns.swarmplot(data = df.sort_values('gene',ascending=False), \n",
    "              x= 'gene', y = 'channel_corrch1_cell_corr', color = pal[2])\n",
    "\n",
    "sns.despine(top = True, right = True)\n",
    "plt.xlabel('')\n",
    "plt.ylabel('')\n",
    "plt.show()\n",
    "##"
   ]
  }
 ],
 "metadata": {
  "kernelspec": {
   "display_name": "Python 3",
   "language": "python",
   "name": "python3"
  },
  "language_info": {
   "codemirror_mode": {
    "name": "ipython",
    "version": 3
   },
   "file_extension": ".py",
   "mimetype": "text/x-python",
   "name": "python",
   "nbconvert_exporter": "python",
   "pygments_lexer": "ipython3",
   "version": "3.6.7"
  }
 },
 "nbformat": 4,
 "nbformat_minor": 2
}
